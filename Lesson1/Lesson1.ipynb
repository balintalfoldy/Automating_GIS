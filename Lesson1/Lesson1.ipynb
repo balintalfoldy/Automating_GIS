{
 "cells": [
  {
   "cell_type": "markdown",
   "id": "291d988b-26bd-4e4a-b19f-fd8f2f05d8e4",
   "metadata": {},
   "source": [
    "### Point\n",
    "Creating point is easy, you pass x and y coordinates into Point() -object (+ possibly also z -coordinate):"
   ]
  },
  {
   "cell_type": "code",
   "execution_count": 1,
   "id": "f6ea9da1-0465-442a-be77-2b78be10ccd4",
   "metadata": {},
   "outputs": [],
   "source": [
    "# Import necessary geometric objects from shapely module\n",
    "from shapely.geometry import Point, LineString, Polygon\n",
    "\n",
    "# Create Point geometric object(s) with coordinates\n",
    "point1 = Point(2.2, 4.2)\n",
    "point2 = Point(7.2, -25.1)\n",
    "point3 = Point(9.26, -2.456)\n",
    "point3D = Point(9.26, -2.456, 0.57)"
   ]
  },
  {
   "cell_type": "code",
   "execution_count": 5,
   "id": "25a444b8-e617-40af-805b-ded2c2391c25",
   "metadata": {},
   "outputs": [
    {
     "name": "stdout",
     "output_type": "stream",
     "text": [
      "POINT (2.2 4.2)\n",
      "POINT Z (9.26 -2.456 0.57)\n"
     ]
    }
   ],
   "source": [
    "print(point1)\n",
    "print(point3D)"
   ]
  },
  {
   "cell_type": "code",
   "execution_count": 6,
   "id": "8b478397-520f-4716-9a1e-f02361742243",
   "metadata": {},
   "outputs": [
    {
     "data": {
      "text/plain": [
       "shapely.geometry.point.Point"
      ]
     },
     "execution_count": 6,
     "metadata": {},
     "output_type": "execute_result"
    }
   ],
   "source": [
    "type(point1)"
   ]
  },
  {
   "cell_type": "markdown",
   "id": "f55b4ef9-668f-4441-a6bf-762362c81481",
   "metadata": {},
   "source": [
    "Points and other shapely objects have useful built-in attributes and methods. Using the available attributes, we can for example extract the coordinate values of a Point and calculate the Euclidian distance between points."
   ]
  },
  {
   "cell_type": "code",
   "execution_count": 7,
   "id": "7f756762-8822-40dd-9bce-908efa55c93e",
   "metadata": {},
   "outputs": [
    {
     "data": {
      "text/plain": [
       "'Point'"
      ]
     },
     "execution_count": 7,
     "metadata": {},
     "output_type": "execute_result"
    }
   ],
   "source": [
    "point1.geom_type"
   ]
  },
  {
   "cell_type": "code",
   "execution_count": 8,
   "id": "48417c93-2cd9-47d9-afbc-2e0b77f3faf3",
   "metadata": {},
   "outputs": [
    {
     "data": {
      "text/plain": [
       "[(2.2, 4.2)]"
      ]
     },
     "execution_count": 8,
     "metadata": {},
     "output_type": "execute_result"
    }
   ],
   "source": [
    "# Get xy coordinate tuple\n",
    "list(point1.coords)"
   ]
  },
  {
   "cell_type": "code",
   "execution_count": 47,
   "id": "16123e7a-b47c-47d8-bc75-e10cd8b4c76c",
   "metadata": {},
   "outputs": [
    {
     "name": "stdout",
     "output_type": "stream",
     "text": [
      "2.2 4.2\n"
     ]
    }
   ],
   "source": [
    "# Read x and y coordinates separately\n",
    "print(point1.x, point1.y)"
   ]
  },
  {
   "cell_type": "markdown",
   "id": "8584e1c3-0006-487d-97d9-0bbdca3af625",
   "metadata": {},
   "source": [
    "Let’s calculate the distance between point1 and point2:"
   ]
  },
  {
   "cell_type": "code",
   "execution_count": 10,
   "id": "515496c8-5518-47c2-8c47-1a80caa86195",
   "metadata": {},
   "outputs": [
    {
     "name": "stdout",
     "output_type": "stream",
     "text": [
      "POINT (2.2 4.2)\n",
      "POINT (7.2 -25.1)\n"
     ]
    }
   ],
   "source": [
    "# Check input data\n",
    "print(point1)\n",
    "print(point2)"
   ]
  },
  {
   "cell_type": "code",
   "execution_count": 11,
   "id": "7daf7261-c088-4758-9e06-a3b0dacbd381",
   "metadata": {},
   "outputs": [
    {
     "name": "stdout",
     "output_type": "stream",
     "text": [
      "Distance between the points is 29.723559679150142 units\n"
     ]
    }
   ],
   "source": [
    "# Calculate the distance between point1 and point2\n",
    "dist = point1.distance(point2)\n",
    "\n",
    "# Print out a nicely formatted info message\n",
    "print(f\"Distance between the points is {dist} units\")"
   ]
  },
  {
   "cell_type": "markdown",
   "id": "8a77f9d4-fcab-4844-b130-9e5a15cfdd4a",
   "metadata": {},
   "source": [
    "### LineString\n",
    "Creating LineString -objects is fairly similar to creating Shapely Points.\n",
    "\n",
    "Now instead using a single coordinate-tuple we can construct the line using either a list of shapely Point -objects or pass the points as coordinate-tuples:"
   ]
  },
  {
   "cell_type": "code",
   "execution_count": 36,
   "id": "c85a0417-4894-4de9-81bc-83bbbf61eb26",
   "metadata": {},
   "outputs": [],
   "source": [
    "# Create a LineString from our Point objects\n",
    "line = LineString([point1, point2, point3])\n",
    "\n",
    "# It is also possible to produce the same outcome using coordinate tuples\n",
    "line2 = LineString([(0, 0), (3.5, -22.1), (11.26, -12.456)])"
   ]
  },
  {
   "cell_type": "code",
   "execution_count": 30,
   "id": "f75621f7-9dde-460e-b456-1c892a32c593",
   "metadata": {},
   "outputs": [
    {
     "name": "stdout",
     "output_type": "stream",
     "text": [
      "LINESTRING (2.2 4.2, 7.2 -25.1, 9.26 -2.456)\n"
     ]
    }
   ],
   "source": [
    "print(line)"
   ]
  },
  {
   "cell_type": "code",
   "execution_count": 15,
   "id": "70b2cbcc-f68f-4bc6-9206-3d47b787b872",
   "metadata": {},
   "outputs": [
    {
     "data": {
      "text/plain": [
       "shapely.geometry.linestring.LineString"
      ]
     },
     "execution_count": 15,
     "metadata": {},
     "output_type": "execute_result"
    }
   ],
   "source": [
    "# Check data type of the line object\n",
    "type(line)"
   ]
  },
  {
   "cell_type": "code",
   "execution_count": 16,
   "id": "a3749604-6ba0-4d48-b3b6-7cfa20d7a466",
   "metadata": {},
   "outputs": [
    {
     "data": {
      "text/plain": [
       "'LineString'"
      ]
     },
     "execution_count": 16,
     "metadata": {},
     "output_type": "execute_result"
    }
   ],
   "source": [
    "# Check geometry type of the line object\n",
    "line.geom_type"
   ]
  },
  {
   "cell_type": "markdown",
   "id": "082fce5d-d20b-4802-9114-81f7d336aed9",
   "metadata": {},
   "source": [
    "LineString -object has many useful built-in attributes and functionalities. It is for instance possible to extract the coordinates or the length of a LineString (line), calculate the centroid of the line, create points along the line at specific distance, calculate the closest distance from a line to specified Point and simplify the geometry. See full list of functionalities from Shapely documentation. Here, we go through a few of them."
   ]
  },
  {
   "cell_type": "code",
   "execution_count": 17,
   "id": "4727f05a-6d2f-425d-879d-0a703b1b39ed",
   "metadata": {},
   "outputs": [
    {
     "data": {
      "text/plain": [
       "[(2.2, 4.2), (7.2, -25.1), (9.26, -2.456)]"
      ]
     },
     "execution_count": 17,
     "metadata": {},
     "output_type": "execute_result"
    }
   ],
   "source": [
    "# Get xy coordinate tuples\n",
    "list(line.coords)"
   ]
  },
  {
   "cell_type": "code",
   "execution_count": 22,
   "id": "6447fead-84a3-4d8c-8518-a734c98a7052",
   "metadata": {},
   "outputs": [
    {
     "name": "stdout",
     "output_type": "stream",
     "text": [
      "[2.2, 7.2, 9.26]\n",
      "[4.2, -25.1, -2.456]\n"
     ]
    }
   ],
   "source": [
    "print(list(line.xy[0]))\n",
    "print(list(line.xy[1]))"
   ]
  },
  {
   "cell_type": "markdown",
   "id": "f84a1ac2-cb6b-449b-87de-ae7765a41f5d",
   "metadata": {},
   "source": [
    "It is possible to retrieve specific attributes such as lenght of the line and center of the line (centroid) straight from the LineString object itself:"
   ]
  },
  {
   "cell_type": "code",
   "execution_count": 31,
   "id": "1ea76510-a5dc-48c8-9815-065f3df37757",
   "metadata": {},
   "outputs": [
    {
     "name": "stdout",
     "output_type": "stream",
     "text": [
      "Length of our line: 52.46106912939557 units\n"
     ]
    }
   ],
   "source": [
    "# Get the lenght of the line\n",
    "l_length = line.length\n",
    "print(f\"Length of our line: {l_length} units\")"
   ]
  },
  {
   "cell_type": "code",
   "execution_count": 32,
   "id": "93bb982b-075c-453d-829b-1a4325b03d96",
   "metadata": {},
   "outputs": [
    {
     "name": "stdout",
     "output_type": "stream",
     "text": [
      "POINT (6.229961354035622 -11.892411157572392)\n"
     ]
    }
   ],
   "source": [
    "# Get the centroid of the line\n",
    "print(line.centroid)"
   ]
  },
  {
   "cell_type": "code",
   "execution_count": 40,
   "id": "19e49ceb-b54d-41ed-9b88-1c0a640d048a",
   "metadata": {},
   "outputs": [
    {
     "data": {
      "text/plain": [
       "2.8314471603439038"
      ]
     },
     "execution_count": 40,
     "metadata": {},
     "output_type": "execute_result"
    }
   ],
   "source": [
    "line.centroid.distance(line2.centroid)"
   ]
  },
  {
   "cell_type": "markdown",
   "id": "cf2f2ee6-8546-4449-a434-11e0b21a06c8",
   "metadata": {},
   "source": [
    "### Polygon\n",
    "Creating a Polygon -object continues the same logic of how Point and LineString were created but Polygon object only accepts a sequence of coordinates as input.\n",
    "\n",
    "Polygon needs at least three coordinate-tuples (three points are reguired to form a surface):"
   ]
  },
  {
   "cell_type": "code",
   "execution_count": 41,
   "id": "75326f1b-4673-40ae-b4d8-b43f018114cf",
   "metadata": {},
   "outputs": [],
   "source": [
    "# Create a Polygon from the coordinates\n",
    "poly = Polygon([(2.2, 4.2), (7.2, -25.1), (9.26, -2.456)])"
   ]
  },
  {
   "cell_type": "code",
   "execution_count": 43,
   "id": "2f6569d8-e0ff-45b9-89be-decf87f4acd0",
   "metadata": {},
   "outputs": [
    {
     "data": {
      "text/plain": [
       "[[2.2, 4.2], [7.2, -25.1], [9.26, -2.456]]"
      ]
     },
     "execution_count": 43,
     "metadata": {},
     "output_type": "execute_result"
    }
   ],
   "source": [
    "# Create a Polygon based on information from the Shapely points\n",
    "poly2 = Polygon([[p.x, p.y] for p in [point1, point2, point3]])\n",
    "[[p.x, p.y] for p in [point1, point2, point3]]"
   ]
  },
  {
   "cell_type": "code",
   "execution_count": 48,
   "id": "7edef3ac-9672-43ef-8b87-6d0caf22b211",
   "metadata": {},
   "outputs": [],
   "source": [
    "#help(Polygon)"
   ]
  },
  {
   "cell_type": "code",
   "execution_count": 49,
   "id": "4fb17c49-daa0-4c6e-a3ce-6dea2ff74308",
   "metadata": {},
   "outputs": [
    {
     "name": "stdout",
     "output_type": "stream",
     "text": [
      "POLYGON ((-180 90, -180 -90, 180 -90, 180 90, -180 90), (-170 80, -170 -80, 170 -80, 170 80, -170 80))\n"
     ]
    }
   ],
   "source": [
    "# Define the outer border\n",
    "border = [(-180, 90), (-180, -90), (180, -90), (180, 90)]\n",
    "# Let's create a single big hole where we leave ten units at the boundaries\n",
    "# Note: there could be multiple holes, so we need to provide list of coordinates for the hole inside a list\n",
    "hole = [[(-170, 80), (-170, -80), (170, -80), (170, 80)]]\n",
    "# Now we can construct our Polygon with the hole inside\n",
    "frame = Polygon(shell=border, holes=hole)\n",
    "print(frame)\n"
   ]
  },
  {
   "cell_type": "code",
   "execution_count": 50,
   "id": "d38c50b8-f659-4486-870b-2e2cfca4f290",
   "metadata": {},
   "outputs": [
    {
     "data": {
      "image/svg+xml": [
       "<svg xmlns=\"http://www.w3.org/2000/svg\" xmlns:xlink=\"http://www.w3.org/1999/xlink\" width=\"300\" height=\"208.8\" viewBox=\"-194.4 -104.4 388.8 208.8\" preserveAspectRatio=\"xMinYMin meet\"><g transform=\"matrix(1,0,0,-1,0,0.0)\"><path fill-rule=\"evenodd\" fill=\"#66cc99\" stroke=\"#555555\" stroke-width=\"2.592\" opacity=\"0.6\" d=\"M -180.0,90.0 L -180.0,-90.0 L 180.0,-90.0 L 180.0,90.0 L -180.0,90.0 z M -170.0,80.0 L -170.0,-80.0 L 170.0,-80.0 L 170.0,80.0 L -170.0,80.0 z\" /></g></svg>"
      ],
      "text/plain": [
       "<shapely.geometry.polygon.Polygon at 0x1809d6a7550>"
      ]
     },
     "execution_count": 50,
     "metadata": {},
     "output_type": "execute_result"
    }
   ],
   "source": [
    "frame"
   ]
  },
  {
   "cell_type": "code",
   "execution_count": 63,
   "id": "81f5a1c1-897c-4e02-a28e-0ce618cb3414",
   "metadata": {},
   "outputs": [
    {
     "data": {
      "image/svg+xml": [
       "<svg xmlns=\"http://www.w3.org/2000/svg\" xmlns:xlink=\"http://www.w3.org/1999/xlink\" width=\"194.39999999999998\" height=\"194.4\" viewBox=\"-7.2 -97.2 194.39999999999998 194.4\" preserveAspectRatio=\"xMinYMin meet\"><g transform=\"matrix(1,0,0,-1,0,0.0)\"><path fill-rule=\"evenodd\" fill=\"#66cc99\" stroke=\"#555555\" stroke-width=\"2.0\" opacity=\"0.6\" d=\"M 180.0,-90.0 L 180.0,90.0 L 0.0,90.0 L 0.0,-90.0 L 180.0,-90.0 z\" /></g></svg>"
      ],
      "text/plain": [
       "<shapely.geometry.polygon.Polygon at 0x1809d6a78e0>"
      ]
     },
     "execution_count": 63,
     "metadata": {},
     "output_type": "execute_result"
    }
   ],
   "source": [
    "from shapely.geometry import box\n",
    "\n",
    "# Specify the bbox extent (lower-left corner coordinates and upper-right corner coordinates)\n",
    "min_x, min_y = 0, -90\n",
    "max_x, max_y = 180, 90\n",
    "\n",
    "# Create the polygon using Shapely\n",
    "east_poly = box(minx=min_x, miny=min_y, maxx=max_x, maxy=max_y)\n",
    "\n",
    "east_poly"
   ]
  },
  {
   "cell_type": "markdown",
   "id": "fa4773d2-7366-47f8-936c-49eb75a5a9fe",
   "metadata": {},
   "source": [
    "We can again access different attributes directly from the Polygon object itself that can be really useful for many analyses, such as area, centroid, bounding box, exterior, and exterior-length. See a full list of methods in the Shapely User Manual.\n",
    "\n",
    "Here, we can see a few of the available attributes and how to access them:"
   ]
  },
  {
   "cell_type": "code",
   "execution_count": 52,
   "id": "9f1a2822-bba8-4500-9652-cddd454185e7",
   "metadata": {},
   "outputs": [
    {
     "name": "stdout",
     "output_type": "stream",
     "text": [
      "Polygon centroid: POINT (0 0)\n",
      "Polygon Area: 10400.0\n",
      "Polygon Bounding Box: (-180.0, -90.0, 180.0, 90.0)\n",
      "Polygon Exterior: LINEARRING (-180 90, -180 -90, 180 -90, 180 90, -180 90)\n",
      "Polygon Exterior Length: 1080.0\n"
     ]
    }
   ],
   "source": [
    "# Print the outputs\n",
    "print(f\"Polygon centroid: {frame.centroid}\")\n",
    "print(f\"Polygon Area: {frame.area}\")\n",
    "print(f\"Polygon Bounding Box: {frame.bounds}\")\n",
    "print(f\"Polygon Exterior: {frame.exterior}\")\n",
    "print(f\"Polygon Exterior Length: {frame.exterior.length}\")"
   ]
  },
  {
   "cell_type": "code",
   "execution_count": 54,
   "id": "ce73d3a1-6a8d-407f-8735-c04e445c1d8e",
   "metadata": {},
   "outputs": [
    {
     "data": {
      "image/svg+xml": [
       "<svg xmlns=\"http://www.w3.org/2000/svg\" xmlns:xlink=\"http://www.w3.org/1999/xlink\" width=\"100.0\" height=\"100.0\" viewBox=\"27.9372 -1.7828 4.125600000000002 3.9455999999999998\" preserveAspectRatio=\"xMinYMin meet\"><g transform=\"matrix(1,0,0,-1,0,0.3799999999999999)\"><path fill-rule=\"evenodd\" fill=\"#66cc99\" stroke=\"#555555\" stroke-width=\"0.08251200000000004\" opacity=\"0.6\" d=\"M 30.0,2.01 L 31.91,0.62 L 31.18,-1.63 L 28.82,-1.63 L 28.09,0.62 L 30.0,2.01 z\" /></g></svg>"
      ],
      "text/plain": [
       "<shapely.geometry.polygon.Polygon at 0x1809bfd6310>"
      ]
     },
     "execution_count": 54,
     "metadata": {},
     "output_type": "execute_result"
    }
   ],
   "source": [
    "Polygon([(30, 2.01), (31.91, 0.62), (31.18, -1.63), (28.82, -1.63), (28.09, 0.62)])"
   ]
  },
  {
   "cell_type": "code",
   "execution_count": 55,
   "id": "69f50ad4-08ea-4ae8-a3c9-91b99b4872b3",
   "metadata": {},
   "outputs": [
    {
     "data": {
      "image/svg+xml": [
       "<svg xmlns=\"http://www.w3.org/2000/svg\" xmlns:xlink=\"http://www.w3.org/1999/xlink\" width=\"100.0\" height=\"100.0\" viewBox=\"27.944399999999998 -1.7755999999999998 2.2012000000000036 3.9311999999999996\" preserveAspectRatio=\"xMinYMin meet\"><g transform=\"matrix(1,0,0,-1,0,0.3799999999999999)\"><path fill-rule=\"evenodd\" fill=\"#66cc99\" stroke=\"#555555\" stroke-width=\"0.07862399999999999\" opacity=\"0.6\" d=\"M 30.0,2.01 L 28.82,-1.63 L 28.09,0.62 L 30.0,2.01 z\" /></g></svg>"
      ],
      "text/plain": [
       "<shapely.geometry.polygon.Polygon at 0x1809bfd6f40>"
      ]
     },
     "execution_count": 55,
     "metadata": {},
     "output_type": "execute_result"
    }
   ],
   "source": [
    "Polygon([(30, 2.01), (28.82, -1.63), (28.09, 0.62)])"
   ]
  },
  {
   "cell_type": "code",
   "execution_count": 58,
   "id": "658a2833-e3d9-4983-8ce0-716a3d17c077",
   "metadata": {},
   "outputs": [
    {
     "data": {
      "image/svg+xml": [
       "<svg xmlns=\"http://www.w3.org/2000/svg\" xmlns:xlink=\"http://www.w3.org/1999/xlink\" width=\"100.0\" height=\"100.0\" viewBox=\"-0.08 -0.08 2.16 2.16\" preserveAspectRatio=\"xMinYMin meet\"><g transform=\"matrix(1,0,0,-1,0,2.0)\"><path fill-rule=\"evenodd\" fill=\"#66cc99\" stroke=\"#555555\" stroke-width=\"0.0432\" opacity=\"0.6\" d=\"M 0.0,0.0 L 2.0,0.0 L 2.0,2.0 L 0.0,2.0 L 0.0,0.0 z\" /></g></svg>"
      ],
      "text/plain": [
       "<shapely.geometry.polygon.Polygon at 0x1809bfd60d0>"
      ]
     },
     "execution_count": 58,
     "metadata": {},
     "output_type": "execute_result"
    }
   ],
   "source": [
    "Polygon([(0, 0), (2, 0), (2, 2), (0, 2)])"
   ]
  },
  {
   "cell_type": "code",
   "execution_count": 59,
   "id": "7cdf657f-61c9-48cf-9029-2a10b6f48196",
   "metadata": {},
   "outputs": [
    {
     "data": {
      "image/svg+xml": [
       "<svg xmlns=\"http://www.w3.org/2000/svg\" xmlns:xlink=\"http://www.w3.org/1999/xlink\" width=\"100.0\" height=\"100.0\" viewBox=\"-1.08 -1.08 2.16 2.16\" preserveAspectRatio=\"xMinYMin meet\"><g transform=\"matrix(1,0,0,-1,0,0.0)\"><path fill-rule=\"evenodd\" fill=\"#66cc99\" stroke=\"#555555\" stroke-width=\"0.0432\" opacity=\"0.6\" d=\"M 1.0,0.0 L 0.9951847266721969,-0.0980171403295606 L 0.9807852804032304,-0.19509032201612825 L 0.9569403357322088,-0.29028467725446233 L 0.9238795325112867,-0.3826834323650898 L 0.881921264348355,-0.47139673682599764 L 0.8314696123025452,-0.5555702330196022 L 0.773010453362737,-0.6343932841636455 L 0.7071067811865476,-0.7071067811865476 L 0.6343932841636455,-0.7730104533627369 L 0.5555702330196023,-0.8314696123025452 L 0.4713967368259978,-0.8819212643483549 L 0.38268343236508984,-0.9238795325112867 L 0.29028467725446233,-0.9569403357322089 L 0.19509032201612833,-0.9807852804032304 L 0.09801714032956077,-0.9951847266721968 L 6.123233995736766e-17,-1.0 L -0.09801714032956065,-0.9951847266721969 L -0.1950903220161282,-0.9807852804032304 L -0.29028467725446216,-0.9569403357322089 L -0.3826834323650897,-0.9238795325112867 L -0.4713967368259977,-0.881921264348355 L -0.555570233019602,-0.8314696123025453 L -0.6343932841636454,-0.7730104533627371 L -0.7071067811865475,-0.7071067811865476 L -0.773010453362737,-0.6343932841636455 L -0.8314696123025453,-0.5555702330196022 L -0.8819212643483549,-0.4713967368259978 L -0.9238795325112867,-0.3826834323650899 L -0.9569403357322088,-0.2902846772544624 L -0.9807852804032304,-0.1950903220161286 L -0.9951847266721968,-0.09801714032956083 L -1.0,-1.2246467991473532e-16 L -0.9951847266721969,0.09801714032956059 L -0.9807852804032304,0.19509032201612836 L -0.9569403357322089,0.2902846772544621 L -0.9238795325112868,0.38268343236508967 L -0.881921264348355,0.47139673682599764 L -0.8314696123025455,0.555570233019602 L -0.7730104533627371,0.6343932841636453 L -0.7071067811865477,0.7071067811865475 L -0.6343932841636459,0.7730104533627367 L -0.5555702330196022,0.8314696123025452 L -0.47139673682599786,0.8819212643483549 L -0.38268343236509034,0.9238795325112865 L -0.29028467725446244,0.9569403357322088 L -0.19509032201612866,0.9807852804032303 L -0.09801714032956045,0.9951847266721969 L -1.8369701987210297e-16,1.0 L 0.09801714032956009,0.9951847266721969 L 0.1950903220161283,0.9807852804032304 L 0.29028467725446205,0.9569403357322089 L 0.38268343236509,0.9238795325112866 L 0.4713967368259976,0.881921264348355 L 0.5555702330196018,0.8314696123025455 L 0.6343932841636456,0.7730104533627369 L 0.7071067811865474,0.7071067811865477 L 0.7730104533627365,0.6343932841636459 L 0.8314696123025452,0.5555702330196022 L 0.8819212643483548,0.4713967368259979 L 0.9238795325112865,0.3826834323650904 L 0.9569403357322088,0.2902846772544625 L 0.9807852804032303,0.19509032201612872 L 0.9951847266721969,0.0980171403295605 L 1.0,0.0 z\" /></g></svg>"
      ],
      "text/plain": [
       "<shapely.geometry.polygon.Polygon at 0x1809d56de80>"
      ]
     },
     "execution_count": 59,
     "metadata": {},
     "output_type": "execute_result"
    }
   ],
   "source": [
    "# Circle (using a buffer around a point)\n",
    "point = Point((0,0))\n",
    "point.buffer(1)"
   ]
  },
  {
   "cell_type": "markdown",
   "id": "a7cd7259-1c03-4563-9261-3a8f0fc361fb",
   "metadata": {},
   "source": [
    "### Geometry collections (optional)\n",
    "\n",
    "In some occassions it is useful to store multiple geometries (for example, several points or several polygons) in a single feature. A practical example would be a country that is composed of several islands. In such case, all these polygons share the same attributes on the country-level and it might be reasonable to store that country as geometry collection that contains all the polygons. The attribute table would then contain one row of information with country-level attributes, and the geometry related to those attributes would represent several polygon.\n",
    "\n",
    "In Shapely, collections of points are implemented by using a MultiPoint -object, collections of curves by using a MultiLineString -object, and collections of surfaces by a MultiPolygon -object."
   ]
  },
  {
   "cell_type": "code",
   "execution_count": 60,
   "id": "0a1ee9c6-daf3-45c3-b76a-c811e739c067",
   "metadata": {},
   "outputs": [],
   "source": [
    "# Import constructors for creating geometry collections\n",
    "from shapely.geometry import MultiPoint, MultiLineString, MultiPolygon"
   ]
  },
  {
   "cell_type": "code",
   "execution_count": 69,
   "id": "7a534c3d-1698-4554-82a2-f9e3626ba8ff",
   "metadata": {},
   "outputs": [
    {
     "name": "stdout",
     "output_type": "stream",
     "text": [
      "MULTIPOINT (2.2 4.2, 7.2 -25.1, 9.26 -2.456, 5 5, 3 9.2, 19.5 5)\n",
      "MULTILINESTRING ((2.2 4.2, 7.2 -25.1), (7.2 -25.1, 9.26 -2.456))\n"
     ]
    }
   ],
   "source": [
    "# Create a MultiPoint object of our points 1,2 and 3\n",
    "multi_point = MultiPoint([point1, point2, point3, (5, 5), (3, 9.2), (19.5, 5)])\n",
    "\n",
    "# It is also possible to pass coordinate tuples inside\n",
    "multi_point2 = MultiPoint([(2.2, 4.2), (7.2, -25.1), (9.26, -2.456)])\n",
    "\n",
    "# We can also create a MultiLineString with two lines\n",
    "line1 = LineString([point1, point2])\n",
    "line2 = LineString([point2, point3])\n",
    "multi_line = MultiLineString([line1, line2])\n",
    "\n",
    "# Print object definitions\n",
    "print(multi_point)\n",
    "print(multi_line)"
   ]
  },
  {
   "cell_type": "code",
   "execution_count": 70,
   "id": "c4a21a48-69a0-4726-af3f-802f9bf0dd1a",
   "metadata": {},
   "outputs": [
    {
     "data": {
      "image/svg+xml": [
       "<svg xmlns=\"http://www.w3.org/2000/svg\" xmlns:xlink=\"http://www.w3.org/1999/xlink\" width=\"100.0\" height=\"100.0\" viewBox=\"0.8280000000000003 -26.472 20.044 37.044\" preserveAspectRatio=\"xMinYMin meet\"><g transform=\"matrix(1,0,0,-1,0,-15.900000000000002)\"><g><circle cx=\"2.2\" cy=\"4.2\" r=\"1.11132\" stroke=\"#555555\" stroke-width=\"0.37044\" fill=\"#66cc99\" opacity=\"0.6\" /><circle cx=\"7.2\" cy=\"-25.1\" r=\"1.11132\" stroke=\"#555555\" stroke-width=\"0.37044\" fill=\"#66cc99\" opacity=\"0.6\" /><circle cx=\"9.26\" cy=\"-2.456\" r=\"1.11132\" stroke=\"#555555\" stroke-width=\"0.37044\" fill=\"#66cc99\" opacity=\"0.6\" /><circle cx=\"5.0\" cy=\"5.0\" r=\"1.11132\" stroke=\"#555555\" stroke-width=\"0.37044\" fill=\"#66cc99\" opacity=\"0.6\" /><circle cx=\"3.0\" cy=\"9.2\" r=\"1.11132\" stroke=\"#555555\" stroke-width=\"0.37044\" fill=\"#66cc99\" opacity=\"0.6\" /><circle cx=\"19.5\" cy=\"5.0\" r=\"1.11132\" stroke=\"#555555\" stroke-width=\"0.37044\" fill=\"#66cc99\" opacity=\"0.6\" /></g></g></svg>"
      ],
      "text/plain": [
       "<shapely.geometry.multipoint.MultiPoint at 0x1809d6b5040>"
      ]
     },
     "execution_count": 70,
     "metadata": {},
     "output_type": "execute_result"
    }
   ],
   "source": [
    "multi_point"
   ]
  },
  {
   "cell_type": "markdown",
   "id": "141bfb11-0fb2-407e-963a-9de0b9afa37e",
   "metadata": {},
   "source": [
    "### Convex hull and envelope¶\n",
    "Convex hull refers to the smalles possible polygon that contains all objects in a collection. Alongside with the minimum bounding box, convex hull is a useful shape when aiming to describe the extent of your data.\n",
    "\n",
    "Let’s create a convex hull around our multi_point object:"
   ]
  },
  {
   "cell_type": "code",
   "execution_count": 71,
   "id": "45ba1634-20a3-49c9-a007-cedf604a5fde",
   "metadata": {},
   "outputs": [
    {
     "data": {
      "image/svg+xml": [
       "<svg xmlns=\"http://www.w3.org/2000/svg\" xmlns:xlink=\"http://www.w3.org/1999/xlink\" width=\"100.0\" height=\"100.0\" viewBox=\"0.8280000000000003 -26.472 20.044 37.044\" preserveAspectRatio=\"xMinYMin meet\"><g transform=\"matrix(1,0,0,-1,0,-15.900000000000002)\"><path fill-rule=\"evenodd\" fill=\"#66cc99\" stroke=\"#555555\" stroke-width=\"0.74088\" opacity=\"0.6\" d=\"M 7.2,-25.1 L 2.2,4.2 L 3.0,9.2 L 19.5,5.0 L 7.2,-25.1 z\" /></g></svg>"
      ],
      "text/plain": [
       "<shapely.geometry.polygon.Polygon at 0x1809c062970>"
      ]
     },
     "execution_count": 71,
     "metadata": {},
     "output_type": "execute_result"
    }
   ],
   "source": [
    "# Convex Hull (smallest polygon around the geometry collection)\n",
    "multi_point.convex_hull"
   ]
  },
  {
   "cell_type": "code",
   "execution_count": 72,
   "id": "5b45428f-98f5-485b-8411-36829fd5161b",
   "metadata": {},
   "outputs": [
    {
     "data": {
      "image/svg+xml": [
       "<svg xmlns=\"http://www.w3.org/2000/svg\" xmlns:xlink=\"http://www.w3.org/1999/xlink\" width=\"100.0\" height=\"100.0\" viewBox=\"0.8280000000000003 -26.472 20.044 37.044\" preserveAspectRatio=\"xMinYMin meet\"><g transform=\"matrix(1,0,0,-1,0,-15.900000000000002)\"><path fill-rule=\"evenodd\" fill=\"#66cc99\" stroke=\"#555555\" stroke-width=\"0.74088\" opacity=\"0.6\" d=\"M 2.2,-25.1 L 19.5,-25.1 L 19.5,9.2 L 2.2,9.2 L 2.2,-25.1 z\" /></g></svg>"
      ],
      "text/plain": [
       "<shapely.geometry.polygon.Polygon at 0x1809d6a78b0>"
      ]
     },
     "execution_count": 72,
     "metadata": {},
     "output_type": "execute_result"
    }
   ],
   "source": [
    "# Envelope (smalles rectangular polygon around the geometry collection): \n",
    "multi_point.envelope"
   ]
  },
  {
   "cell_type": "markdown",
   "id": "a38ce003-568e-4333-a064-5bb92cccbc00",
   "metadata": {},
   "source": [
    "### Other useful attributes\n",
    "lenght of the geometry collection:"
   ]
  },
  {
   "cell_type": "code",
   "execution_count": 76,
   "id": "d36d1f25-ad87-45ce-9bb2-3a0fe40be11c",
   "metadata": {},
   "outputs": [
    {
     "name": "stdout",
     "output_type": "stream",
     "text": [
      "Number of objects in our MultiLine: 6\n"
     ]
    }
   ],
   "source": [
    "print(f\"Number of objects in our MultiLine: {len(multi_point.geoms)}\")\n"
   ]
  },
  {
   "cell_type": "markdown",
   "id": "2f9690de-dccd-4ca0-bb23-88d2741a6d84",
   "metadata": {},
   "source": [
    "Finally, we can check if we have a “valid” MultiPolygon. MultiPolygon is thought as valid if the individual polygons does notintersect with each other. Here, because the polygons have a common 0-meridian, we should NOT have a valid polygon. We can check the validity of an object from the is_valid -attribute that tells if the polygons or lines intersect with each other. This can be really useful information when trying to find topological errors from your data:"
   ]
  },
  {
   "cell_type": "code",
   "execution_count": 83,
   "id": "71e79b67-e815-4547-9fb0-ede2ba4bcbf1",
   "metadata": {},
   "outputs": [],
   "source": [
    "#print(f\"Is polygon valid?: {multi_poly.is_valid}\")"
   ]
  },
  {
   "cell_type": "code",
   "execution_count": null,
   "id": "836430c0-c76b-4b66-acee-d1d21e2e065a",
   "metadata": {},
   "outputs": [],
   "source": []
  }
 ],
 "metadata": {
  "kernelspec": {
   "display_name": "Python 3 (ipykernel)",
   "language": "python",
   "name": "python3"
  },
  "language_info": {
   "codemirror_mode": {
    "name": "ipython",
    "version": 3
   },
   "file_extension": ".py",
   "mimetype": "text/x-python",
   "name": "python",
   "nbconvert_exporter": "python",
   "pygments_lexer": "ipython3",
   "version": "3.8.12"
  }
 },
 "nbformat": 4,
 "nbformat_minor": 5
}
